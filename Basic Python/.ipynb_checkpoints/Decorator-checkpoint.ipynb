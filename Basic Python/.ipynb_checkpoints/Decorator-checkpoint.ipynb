{
 "cells": [
  {
   "cell_type": "code",
   "execution_count": 4,
   "metadata": {},
   "outputs": [
    {
     "name": "stdout",
     "output_type": "stream",
     "text": [
      "before add num\n",
      "sum= 9\n",
      "after add num\n",
      "None\n"
     ]
    }
   ],
   "source": [
    "# python decorator which is called wrapper\n",
    "\n",
    "#here decorate function add_num\n",
    "#function is in python is first class citizen i.e act as variable \n",
    "def add_num_decorate(f):# here f is function  in this we pass function\n",
    "    def wrap_add(i,j):\n",
    "        print(\"before add num\")\n",
    "        print(\"sum=\",f(i,j))\n",
    "        print(\"after add num\")\n",
    "    return wrap_add    \n",
    "@add_num_decorate\n",
    "def add_num(i,j):\n",
    "    return i+j\n",
    "\n",
    "print(add_num(4,5))"
   ]
  },
  {
   "cell_type": "code",
   "execution_count": 1,
   "metadata": {},
   "outputs": [
    {
     "name": "stdout",
     "output_type": "stream",
     "text": [
      "fFLTUHvrjAcT9bEg\n",
      "HwTFHcGhCaJ6cuvj\n",
      "sqLyly7v7CuZpm3k\n",
      "y4qj9af0BGnOTQYN\n",
      "vnxUUrBj6N9xshuM\n",
      "hrISNptRCXXw1wTt\n",
      "1AWoTOBMDjp6E5yx\n",
      "qvzq6N4oRtAk4cWm\n",
      "ccdLrWyFftBeMzn8\n",
      "qMdypzMOONgUBoeN\n",
      "dk5zq3wFXCTkBMny\n",
      "YBHLJbIEnZkDAJIH\n",
      "Dnkym46ZXIQaZvtc\n",
      "Yj9nQrMvWefoGpId\n",
      "bOXRImBtR3Kt28Ny\n",
      "CouchwLvJvNyqhDR\n",
      "jyA72OOSMxPda0ak\n",
      "VpDNRcThEO36ftHQ\n",
      "a3EEa2ZMvoaLK1Vc\n",
      "zIdVP5wN5OC4B6fV\n"
     ]
    }
   ],
   "source": [
    "#python random string generator\n",
    "import string\n",
    "import random\n",
    "def id_generator(size=16,chars=string.ascii_uppercase + string.ascii_lowercase+string.digits):\n",
    "    return ''.join(random.choice(chars) for _ in range(size))\n",
    "for i in range(20):\n",
    "    \n",
    "    print(id_generator())"
   ]
  },
  {
   "cell_type": "markdown",
   "metadata": {},
   "source": [
    "Decorators:\n",
    "Decorators are a significant part of Python. In simple words: they are functions which modify the functionality of another function. They help to make our code shorter and more Pythonic. Most of the beginners do not know where to use them so I am going to share some areas where decorators can make your code more concise.\n",
    "\n",
    "First, let’s discuss how to write your own decorator.\n",
    "\n",
    "NOTE: Everything in Python is an object:\n",
    "\n"
   ]
  },
  {
   "cell_type": "code",
   "execution_count": 8,
   "metadata": {},
   "outputs": [
    {
     "name": "stdout",
     "output_type": "stream",
     "text": [
      "Hi khan\n"
     ]
    }
   ],
   "source": [
    "def hi(word='aakash gupta'):\n",
    "    return 'Hi '+word\n",
    "greet=hi\n",
    "del hi # here we delete hi function\n",
    "print(greet('khan'))\n",
    "#print(hi()) # we cannot call hi function becoz we delete above"
   ]
  },
  {
   "cell_type": "code",
   "execution_count": 15,
   "metadata": {},
   "outputs": [
    {
     "name": "stdout",
     "output_type": "stream",
     "text": [
      "we r inside hi() functions\n",
      "we r inside greet() function\n",
      "we r in welcome() function\n"
     ]
    }
   ],
   "source": [
    "# Here we define function within function\n",
    "\n",
    "def hi(name='aakash'):\n",
    "    print(\"we r inside hi() functions\")\n",
    "    \n",
    "    def greet1():\n",
    "        return \"we r inside greet() function\"\n",
    "    def welcome():\n",
    "        return \"we r in welcome() function\"\n",
    "    print(greet1())\n",
    "    print(welcome())\n",
    "    \n",
    "hi()  \n",
    "#print(greet1())"
   ]
  },
  {
   "cell_type": "code",
   "execution_count": null,
   "metadata": {},
   "outputs": [],
   "source": [
    "## python property decorator example\n",
    "#property decorator actually access method jus like attributes"
   ]
  },
  {
   "cell_type": "code",
   "execution_count": 16,
   "metadata": {},
   "outputs": [
    {
     "name": "stdout",
     "output_type": "stream",
     "text": [
      "aakash.gupta@gmail.com\n",
      "aakash gupta\n",
      "aakash raj\n"
     ]
    }
   ],
   "source": [
    "class student:\n",
    "    def __init__(self,name,lname):\n",
    "        self.name=name\n",
    "        self.lname=lname\n",
    "        \n",
    "    def email(self):\n",
    "        return '{}.{}@gmail.com'.format(self.name,self.lname)\n",
    "    @property  # this help in acces fullname method just like attributes\n",
    "    def fullname(self):\n",
    "        return '{} {}'.format(self.name,self.lname)\n",
    "    @fullname.setter\n",
    "    def fullname(self,name):\n",
    "        first,last=name.split(' ')\n",
    "        print(first,last)\n",
    "        \n",
    "st =student('aakash','gupta')\n",
    "print(st.email())\n",
    "print(st.fullname)\n",
    "st.fullname=('aakash raj') # this will call fullname.setter"
   ]
  },
  {
   "cell_type": "code",
   "execution_count": null,
   "metadata": {},
   "outputs": [],
   "source": []
  }
 ],
 "metadata": {
  "kernelspec": {
   "display_name": "Python 3",
   "language": "python",
   "name": "python3"
  },
  "language_info": {
   "codemirror_mode": {
    "name": "ipython",
    "version": 3
   },
   "file_extension": ".py",
   "mimetype": "text/x-python",
   "name": "python",
   "nbconvert_exporter": "python",
   "pygments_lexer": "ipython3",
   "version": "3.6.5"
  }
 },
 "nbformat": 4,
 "nbformat_minor": 2
}
