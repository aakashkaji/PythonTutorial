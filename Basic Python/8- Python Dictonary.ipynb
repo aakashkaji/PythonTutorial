{
 "cells": [
  {
   "cell_type": "markdown",
   "metadata": {},
   "source": [
    "# Python Dictonary\n",
    "### It is similar to hash or maps in other languages. It consists of key value pairs. The value can be accessed by unique key in the dictionary."
   ]
  },
  {
   "cell_type": "code",
   "execution_count": 7,
   "metadata": {},
   "outputs": [
    {
     "name": "stdout",
     "output_type": "stream",
     "text": [
      "{'a': 123, 'b': 120}\n",
      "dict_keys(['a', 'b'])\n",
      "dict_values([123, 120])\n",
      "dict_items([('a', 123), ('b', 120)])\n",
      "a  >  123\n",
      "b  >  120\n",
      "0  >>> a\n",
      "1  >>> b\n"
     ]
    }
   ],
   "source": [
    "#create a new dictionary\n",
    "d=dict() # or d={}\n",
    "#add key value pair in dictionary\n",
    "d['a']=123\n",
    "d['b']=120\n",
    "\n",
    "# print the whole dictionary\n",
    "print(d)\n",
    "\n",
    "# print only keys \n",
    "\n",
    "print(d.keys())\n",
    "\n",
    "# print only values in dict\n",
    "\n",
    "print(d.values())\n",
    "\n",
    "## items() is the dict to expressed as tupple(key ,value)\n",
    "print(d.items())\n",
    "\n",
    "# iterate over dict:\n",
    "for k,v in d.items():\n",
    "    print(k,' > ',v)\n",
    "\n",
    "## iterate  dict using enumerate\n",
    "\n",
    "for k,v in enumerate(d):\n",
    "    print(k,' >>>',v) # this will print index of key and key"
   ]
  },
  {
   "cell_type": "code",
   "execution_count": 8,
   "metadata": {},
   "outputs": [],
   "source": [
    "# delete element from dictionary\n",
    "\n",
    "del d['a']"
   ]
  },
  {
   "cell_type": "code",
   "execution_count": 10,
   "metadata": {},
   "outputs": [
    {
     "name": "stdout",
     "output_type": "stream",
     "text": [
      "{'b': 120}\n"
     ]
    }
   ],
   "source": [
    "print(d) # this is update dictionary after deleting element "
   ]
  },
  {
   "cell_type": "code",
   "execution_count": null,
   "metadata": {},
   "outputs": [],
   "source": []
  }
 ],
 "metadata": {
  "kernelspec": {
   "display_name": "Python 3",
   "language": "python",
   "name": "python3"
  },
  "language_info": {
   "codemirror_mode": {
    "name": "ipython",
    "version": 3
   },
   "file_extension": ".py",
   "mimetype": "text/x-python",
   "name": "python",
   "nbconvert_exporter": "python",
   "pygments_lexer": "ipython3",
   "version": "3.6.5"
  }
 },
 "nbformat": 4,
 "nbformat_minor": 2
}
