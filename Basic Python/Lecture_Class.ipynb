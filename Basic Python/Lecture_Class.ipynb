{
 "cells": [
  {
   "cell_type": "markdown",
   "metadata": {},
   "source": [
    "# python class lectures examples \n",
    "\n",
    "Python OOPs Concepts\n",
    "Python is an object-oriented programming language. It allows us to develop applications using Object Oriented approach. In Python, we can easily create and use classes and objects.\n",
    "\n",
    "Major principles of object-oriented programming system are given below\n",
    "\n",
    "Object\n",
    "Class\n",
    "Method\n",
    "Inheritance\n",
    "Polymorphism\n",
    "Data Abstraction\n",
    "Encapsulation\n",
    "\n"
   ]
  },
  {
   "cell_type": "code",
   "execution_count": 3,
   "metadata": {},
   "outputs": [
    {
     "name": "stdout",
     "output_type": "stream",
     "text": [
      "<__main__.Empolyee object at 0x7f54a853b240>\n"
     ]
    }
   ],
   "source": [
    "class Empolyee:\n",
    "    pass\n",
    "emp_1=Empolyee()\n",
    "print(emp_1)    "
   ]
  },
  {
   "cell_type": "code",
   "execution_count": 20,
   "metadata": {},
   "outputs": [
    {
     "name": "stdout",
     "output_type": "stream",
     "text": [
      "aakash gupta\n",
      "15750\n",
      "{'first': 'aakash', 'last': 'gupta', 'pay': 15000, 'raise_amount': 1.05}\n",
      "15900\n",
      "{'first': 'rahul', 'last': 'singh', 'pay': 15000}\n",
      "1.06\n",
      "1.05\n",
      "1.06\n"
     ]
    }
   ],
   "source": [
    "#class variable and instance variable\n",
    "\n",
    "class Empolyee:\n",
    "    raise_amount=1.04\n",
    "    \n",
    "    def __init__(self,first,last,pay):\n",
    "        self.first=first\n",
    "        self.last=last\n",
    "        self.pay=pay\n",
    "    def full_name(self):\n",
    "        return '{} {}'.format(self.first,self.last)\n",
    "    \n",
    "    def apply_raise(self):\n",
    "        return int(self.pay*self.raise_amount)\n",
    "    @classmethod\n",
    "    def set_raise_amount(cls,amount):\n",
    "        cls.raise_amount=amount\n",
    "    \n",
    "emp1=Empolyee('aakash','gupta',15000)\n",
    "emp2=Empolyee('rahul','singh',15000)\n",
    "Empolyee.set_raise_amount(1.06)\n",
    "emp1.raise_amount=1.05\n",
    "print(emp1.full_name())\n",
    "print(emp1.apply_raise())\n",
    "print(emp1.__dict__)\n",
    "print(emp2.apply_raise())\n",
    "print(emp2.__dict__)\n",
    "print(Empolyee.raise_amount)\n",
    "print(emp1.raise_amount)\n",
    "print(emp2.raise_amount)"
   ]
  },
  {
   "cell_type": "code",
   "execution_count": 29,
   "metadata": {},
   "outputs": [
    {
     "name": "stdout",
     "output_type": "stream",
     "text": [
      "raman kumar\n",
      "True\n",
      "True\n"
     ]
    }
   ],
   "source": [
    "#inheritance\n",
    "class Developer(Empolyee):\n",
    "    def __init__(self,first,last,pay,prog_lang):\n",
    "        super().__init__(first,last,pay) #Empolyee.__init__(self,first,last,pay)\n",
    "        self.prog_lang=prog_lang\n",
    "dev1=Developer('raman','kumar',12000,'java')\n",
    "print(dev1.full_name())\n",
    "#print(help(Developer))\n",
    "print(issubclass(Developer,Empolyee))\n",
    "print(isinstance(dev1,Empolyee))"
   ]
  },
  {
   "cell_type": "code",
   "execution_count": 36,
   "metadata": {},
   "outputs": [
    {
     "name": "stdout",
     "output_type": "stream",
     "text": [
      "{'name': 'akii'}\n",
      "['welcome', 'back']\n",
      "['welcome', 'back']\n"
     ]
    }
   ],
   "source": [
    "#here we take list as class variable \n",
    "\n",
    "class Aakash:\n",
    "    tricks=[]\n",
    "    def __init__(self,name):\n",
    "        self.name=name\n",
    "        \n",
    "    def add_tk(self,name):\n",
    "        self.tricks.append(name)\n",
    "        \n",
    "obj1=Aakash('akii')\n",
    "obj2=Aakash('rhl')\n",
    "obj1.add_tk('welcome')\n",
    "obj2.add_tk('back')\n",
    "print(obj1.__dict__)\n",
    "print(obj1.tricks)\n",
    "print(obj2.tricks)"
   ]
  },
  {
   "cell_type": "code",
   "execution_count": 1,
   "metadata": {},
   "outputs": [],
   "source": [
    "#Data Encapsulation in python\n",
    "# encapulation means hiding datamember of class\n",
    "\n",
    "class Computer:\n",
    "    def __init__(self, name):\n",
    "        self.__name=name"
   ]
  },
  {
   "cell_type": "code",
   "execution_count": 7,
   "metadata": {},
   "outputs": [
    {
     "name": "stdout",
     "output_type": "stream",
     "text": [
      "9\n"
     ]
    }
   ],
   "source": [
    "# functions lectures..\n",
    "\n",
    "def add_two_num(a=0,b=0):\n",
    "    \n",
    "    return a+b\n",
    "\n",
    "\n",
    "print(add_two_num(4,5))"
   ]
  },
  {
   "cell_type": "code",
   "execution_count": 15,
   "metadata": {},
   "outputs": [
    {
     "name": "stdout",
     "output_type": "stream",
     "text": [
      "1\n",
      "17\n"
     ]
    }
   ],
   "source": [
    "#fun for factorial\n",
    "def fact(b=0):\n",
    "    c=1\n",
    "    for i in range(1,b+1):\n",
    "        c=c*i\n",
    "    return c\n",
    "print(fact())\n",
    "print(add_two_num(8,9))"
   ]
  },
  {
   "cell_type": "code",
   "execution_count": 16,
   "metadata": {},
   "outputs": [
    {
     "name": "stdout",
     "output_type": "stream",
     "text": [
      "9\n"
     ]
    }
   ],
   "source": [
    "#lambda function\n",
    "c=lambda x,y:x+y\n",
    "print(c(4,5))"
   ]
  },
  {
   "cell_type": "code",
   "execution_count": null,
   "metadata": {},
   "outputs": [],
   "source": []
  }
 ],
 "metadata": {
  "kernelspec": {
   "display_name": "Python 3",
   "language": "python",
   "name": "python3"
  },
  "language_info": {
   "codemirror_mode": {
    "name": "ipython",
    "version": 3
   },
   "file_extension": ".py",
   "mimetype": "text/x-python",
   "name": "python",
   "nbconvert_exporter": "python",
   "pygments_lexer": "ipython3",
   "version": "3.6.5"
  }
 },
 "nbformat": 4,
 "nbformat_minor": 2
}
