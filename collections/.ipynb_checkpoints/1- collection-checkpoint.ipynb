{
 "cells": [
  {
   "cell_type": "markdown",
   "metadata": {},
   "source": [
    "# collections\n",
    "\n",
    "Python ships with a module that contains a number of container data types called Collections. We will talk about a few of them and discuss their usefulness.\n",
    "\n",
    "The ones which we will talk about are:\n",
    "-> defaultdict\n",
    "-> OrderedDict\n",
    "-> counter\n",
    "-> deque\n",
    "-> namedtuple"
   ]
  },
  {
   "cell_type": "code",
   "execution_count": 8,
   "metadata": {},
   "outputs": [
    {
     "name": "stdout",
     "output_type": "stream",
     "text": [
      "OrderedDict([('name', 'aakash'), ('email', 'aakashgupta@gmail.com'), ('country', 'India'), ('company', 'leuftech'), ('age', 25)])\n",
      "{'name': 'aakash', 'email': 'aakashgupta@gmail.com', 'country': 'India', 'company': 'leuftech', 'age': 25}\n",
      "name > aakash\n",
      "email > aakashgupta@gmail.com\n",
      "country > India\n",
      "company > leuftech\n",
      "age > 25\n"
     ]
    }
   ],
   "source": [
    "# let's begin\n",
    "\n",
    "from collections import OrderedDict\n",
    "\n",
    "d={}\n",
    "# simple dictionary\n",
    "d['name']='aakash'\n",
    "d['email']='aakashgupta@gmail.com'\n",
    "d['country']='India'\n",
    "d['company']='leuftech'\n",
    "d['age']=25\n",
    "dict=OrderedDict()\n",
    "dict['name']='aakash'\n",
    "dict['email']='aakashgupta@gmail.com'\n",
    "dict['country']='India'\n",
    "dict['company']='leuftech'\n",
    "dict['age']=25\n",
    "print(dict)\n",
    "print(d)\n",
    "\n",
    "for k,v in dict.items():\n",
    "    print(k,'>',v)\n"
   ]
  },
  {
   "cell_type": "code",
   "execution_count": null,
   "metadata": {},
   "outputs": [],
   "source": []
  },
  {
   "cell_type": "code",
   "execution_count": null,
   "metadata": {},
   "outputs": [],
   "source": []
  }
 ],
 "metadata": {
  "kernelspec": {
   "display_name": "Python 3",
   "language": "python",
   "name": "python3"
  },
  "language_info": {
   "codemirror_mode": {
    "name": "ipython",
    "version": 3
   },
   "file_extension": ".py",
   "mimetype": "text/x-python",
   "name": "python",
   "nbconvert_exporter": "python",
   "pygments_lexer": "ipython3",
   "version": "3.6.5"
  }
 },
 "nbformat": 4,
 "nbformat_minor": 2
}
