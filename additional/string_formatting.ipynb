{
 "cells": [
  {
   "cell_type": "code",
   "execution_count": 2,
   "metadata": {},
   "outputs": [
    {
     "name": "stdout",
     "output_type": "stream",
     "text": [
      "aakash gupta\n",
      "gupta aakash\n"
     ]
    }
   ],
   "source": [
    "# Python3 String Formatting Examples\n",
    "\n",
    "print('{} {}' .format(\"aakash\",\"gupta\"))\n",
    "print('{1} {0}' .format(\"aakash\",\"gupta\"))"
   ]
  },
  {
   "cell_type": "code",
   "execution_count": 7,
   "metadata": {},
   "outputs": [
    {
     "name": "stdout",
     "output_type": "stream",
     "text": [
      "              aakash\n",
      "aakash     gupta\n"
     ]
    }
   ],
   "source": [
    "#Padding and aligning strings\n",
    "# Syntax: {:>10} .format(\"aakash\")\n",
    "\n",
    "print('{:>20}' .format(\"aakash\"))\n",
    "print('{:10} {}' .format(\"aakash\",\"gupta\")) # padding 10 as aakash gpta"
   ]
  },
  {
   "cell_type": "code",
   "execution_count": 8,
   "metadata": {},
   "outputs": [
    {
     "name": "stdout",
     "output_type": "stream",
     "text": [
      "Gover\n"
     ]
    }
   ],
   "source": [
    "#Truncating long strings\n",
    "# syntax: {:.5} this will print only 5 character of string from start\n",
    "print('{:.5}' .format(\"Government\"))\n"
   ]
  },
  {
   "cell_type": "code",
   "execution_count": 9,
   "metadata": {},
   "outputs": [
    {
     "name": "stdout",
     "output_type": "stream",
     "text": [
      "aakash gupta\n"
     ]
    }
   ],
   "source": [
    "#Named placeholders\n",
    "# it also  also accepts keyword arguments.\n",
    "data={'first':'aakash','last':'gupta'}\n",
    "print('{first} {last}' .format(**data))\n"
   ]
  },
  {
   "cell_type": "code",
   "execution_count": null,
   "metadata": {},
   "outputs": [],
   "source": []
  }
 ],
 "metadata": {
  "kernelspec": {
   "display_name": "Python 3",
   "language": "python",
   "name": "python3"
  },
  "language_info": {
   "codemirror_mode": {
    "name": "ipython",
    "version": 3
   },
   "file_extension": ".py",
   "mimetype": "text/x-python",
   "name": "python",
   "nbconvert_exporter": "python",
   "pygments_lexer": "ipython3",
   "version": "3.6.5"
  }
 },
 "nbformat": 4,
 "nbformat_minor": 2
}
