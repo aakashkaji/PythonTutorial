{
 "cells": [
  {
   "cell_type": "markdown",
   "metadata": {},
   "source": [
    "# Python zip() functions\n",
    ". Python zip function takes iterable elements as input, and returns iterator if fun has no iterable element then     return an empty iterator\n",
    "\n",
    ". if we pass two iterable object of same lengths, then an iterable of python tuples will be returned where each        element of the tuple will be from those iterable lists."
   ]
  },
  {
   "cell_type": "code",
   "execution_count": 34,
   "metadata": {},
   "outputs": [
    {
     "name": "stdout",
     "output_type": "stream",
     "text": [
      "<class 'zip'>\n"
     ]
    }
   ],
   "source": [
    "#example\n",
    "test=zip()\n",
    "print(type(test))"
   ]
  },
  {
   "cell_type": "code",
   "execution_count": 35,
   "metadata": {},
   "outputs": [
    {
     "name": "stdout",
     "output_type": "stream",
     "text": [
      "<zip object at 0x7f37df7c3108>\n"
     ]
    }
   ],
   "source": [
    "l1=['aakash','raman','manoj','rahul']\n",
    "l2=['red','green',5]\n",
    "test=zip(l1,l2)\n",
    "print(test) # here zip function returns an iterator"
   ]
  },
  {
   "cell_type": "code",
   "execution_count": 36,
   "metadata": {},
   "outputs": [
    {
     "name": "stdout",
     "output_type": "stream",
     "text": [
      "('aakash', 'red')\n",
      "('raman', 'green')\n",
      "('manoj', 5)\n"
     ]
    }
   ],
   "source": [
    "for value in test:\n",
    "    print(value)"
   ]
  },
  {
   "cell_type": "code",
   "execution_count": 37,
   "metadata": {},
   "outputs": [
    {
     "name": "stdout",
     "output_type": "stream",
     "text": [
      "Name: aakash  hobbies:  music  age: 24\n",
      "Name: rahul  hobbies:  study  age: 25\n",
      "Name: manoj  hobbies:  chatting  age: 27\n"
     ]
    }
   ],
   "source": [
    "# Travercing two or more sequence at same time using zip function.\n",
    "\n",
    "nm=['aakash','rahul','manoj','gupta']\n",
    "hobbie=['music','study','chatting','NA']\n",
    "age=[24,25,27]\n",
    "\n",
    "for nm,hobbies,age in zip(nm,hobbie,age):\n",
    "    print('Name:',nm,' hobbies: ',hobbies,' age:',age)"
   ]
  },
  {
   "cell_type": "markdown",
   "metadata": {},
   "source": [
    "# Ternary opertor example\n",
    "## Syntax: [when_true] if [condition] else [when_false]\n"
   ]
  },
  {
   "cell_type": "code",
   "execution_count": 38,
   "metadata": {},
   "outputs": [
    {
     "name": "stdout",
     "output_type": "stream",
     "text": [
      "10\n"
     ]
    }
   ],
   "source": [
    "a,b=5,10\n",
    "\n",
    "print(a if a>b else b)"
   ]
  },
  {
   "cell_type": "markdown",
   "metadata": {},
   "source": [
    "# Python ternary operator example with Tuple\n",
    "### syntax: -  (when false,when true)[condition]\n"
   ]
  },
  {
   "cell_type": "code",
   "execution_count": 39,
   "metadata": {},
   "outputs": [
    {
     "data": {
      "text/plain": [
       "'gupta'"
      ]
     },
     "execution_count": 39,
     "metadata": {},
     "output_type": "execute_result"
    }
   ],
   "source": [
    "is_fast=True\n",
    "('aakash','gupta')[is_fast]"
   ]
  },
  {
   "cell_type": "markdown",
   "metadata": {},
   "source": [
    "# Python doesn't support switch case statement\n",
    "## Using Dictionary or Dynamic function to handle the switch case problem\n"
   ]
  },
  {
   "cell_type": "code",
   "execution_count": 42,
   "metadata": {},
   "outputs": [
    {
     "name": "stdout",
     "output_type": "stream",
     "text": [
      "enter the value:b\n"
     ]
    },
    {
     "data": {
      "text/plain": [
       "20"
      ]
     },
     "execution_count": 42,
     "metadata": {},
     "output_type": "execute_result"
    }
   ],
   "source": [
    "def switch_case(value,x):\n",
    "    return{\n",
    "        'a': lambda x:x+122,\n",
    "        'b': lambda x:x*4,\n",
    "        'c': lambda x:x/2,\n",
    "        'd': lambda x:x^3,\n",
    "        \n",
    "    }.get(value)(x)\n",
    "\n",
    "\n",
    "ins=input(\"enter the value:\")\n",
    "\n",
    "switch_case(ins,5)"
   ]
  },
  {
   "cell_type": "code",
   "execution_count": 48,
   "metadata": {},
   "outputs": [
    {
     "name": "stdout",
     "output_type": "stream",
     "text": [
      "gupta aakash\n",
      "rhldev@gmail.com\n",
      "dev rhl\n",
      "['__class__', '__delattr__', '__dict__', '__dir__', '__doc__', '__eq__', '__format__', '__ge__', '__getattribute__', '__gt__', '__hash__', '__init__', '__init_subclass__', '__le__', '__lt__', '__module__', '__ne__', '__new__', '__reduce__', '__reduce_ex__', '__repr__', '__setattr__', '__sizeof__', '__str__', '__subclasshook__', '__weakref__', 'emailid', 'full_name']\n"
     ]
    }
   ],
   "source": [
    "# here python inheritance class explanation\n",
    "class user:\n",
    "    def __init__(self,fname,lname):\n",
    "        self.fname=fname\n",
    "        self.lname=lname\n",
    "    def full_name(self):\n",
    "        return '{1} {0}'.format(self.fname,self.lname)\n",
    "class email(user):\n",
    "    def __init__(self,name,lname,age):\n",
    "        super().__init__(name,lname) #calling parent class constructor is first stmt\n",
    "        self.age=age\n",
    "    def emailid(self):\n",
    "        return '{}{}'.format(self.fname,self.lname)+'@gmail.com'\n",
    "    \n",
    "a= user('aakash','gupta')\n",
    "b=email('rhl','dev',18)\n",
    "print(a.full_name())\n",
    "print(b.emailid())\n",
    "print(b.full_name())\n",
    "print(dir(email))"
   ]
  },
  {
   "cell_type": "code",
   "execution_count": null,
   "metadata": {},
   "outputs": [],
   "source": []
  }
 ],
 "metadata": {
  "kernelspec": {
   "display_name": "Python 3",
   "language": "python",
   "name": "python3"
  },
  "language_info": {
   "codemirror_mode": {
    "name": "ipython",
    "version": 3
   },
   "file_extension": ".py",
   "mimetype": "text/x-python",
   "name": "python",
   "nbconvert_exporter": "python",
   "pygments_lexer": "ipython3",
   "version": "3.6.5"
  }
 },
 "nbformat": 4,
 "nbformat_minor": 2
}
