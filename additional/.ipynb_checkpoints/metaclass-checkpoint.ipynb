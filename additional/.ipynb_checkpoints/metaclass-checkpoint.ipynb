{
 "cells": [
  {
   "cell_type": "markdown",
   "metadata": {},
   "source": [
    "# Python metaclass (very important)\n",
    ". In python, a class is actually an object of another class. This another class is called metaclass\n",
    ". Whenever we create any class then the default metaclass gets called. This metaclass gets called with three \n",
    "  information – name of the class, set of base classes of the class and the attributes of the class."
   ]
  },
  {
   "cell_type": "markdown",
   "metadata": {},
   "source": [
    "## A metaclass is a class whose instances are classes. Like an \"ordinary\" class defines the behavior of the instances of the class, a metaclass defines the behavior of classes and their instances.\n",
    "\n",
    "### There  are numerous uses case for metaclass are:\n",
    ". logging and profiling\n",
    "\n",
    ". interface checking\n",
    "\n",
    ". registering classes at creation time\n",
    "\n",
    ". automatically adding new methods\n",
    "\n",
    ". automatic property creation\n",
    "\n",
    ". proxies\n",
    "\n",
    ". automatic resource locking/synchronization"
   ]
  },
  {
   "cell_type": "markdown",
   "metadata": {},
   "source": [
    "#Syntax:Student = type('Student', (), {})\n",
    "#equivalent to:\n",
    "\n",
    "    class Student:\n",
    "        pass\n"
   ]
  },
  {
   "cell_type": "code",
   "execution_count": 1,
   "metadata": {},
   "outputs": [
    {
     "name": "stdout",
     "output_type": "stream",
     "text": [
      "<class '__main__.aakash'>\n",
      "<class 'type'>\n"
     ]
    }
   ],
   "source": [
    "# example\n",
    "class aakash:\n",
    "    pass\n",
    "obj=aakash()\n",
    "print(type(obj)) # this show that obj is an object of aakash class\n",
    "print(type(aakash))"
   ]
  },
  {
   "cell_type": "markdown",
   "metadata": {},
   "source": [
    "## you can create your own metaclass to define the\n",
    "     behaviour of any class that are creating your class\n"
   ]
  },
  {
   "cell_type": "code",
   "execution_count": 5,
   "metadata": {},
   "outputs": [
    {
     "name": "stdout",
     "output_type": "stream",
     "text": [
      "<class '__main__.MyMetaClass'>\n",
      "<class 'type'>\n"
     ]
    }
   ],
   "source": [
    "class MyMetaClass(type):\n",
    "    __metaclass__=type\n",
    "\n",
    "class Demo:\n",
    "    __metaclass__=MyMetaClass\n",
    "obj=Demo()\n",
    "print(obj.__metaclass__)\n",
    "print(MyMetaClass.__metaclass__)"
   ]
  },
  {
   "cell_type": "code",
   "execution_count": null,
   "metadata": {},
   "outputs": [],
   "source": []
  }
 ],
 "metadata": {
  "kernelspec": {
   "display_name": "Python 3",
   "language": "python",
   "name": "python3"
  },
  "language_info": {
   "codemirror_mode": {
    "name": "ipython",
    "version": 3
   },
   "file_extension": ".py",
   "mimetype": "text/x-python",
   "name": "python",
   "nbconvert_exporter": "python",
   "pygments_lexer": "ipython3",
   "version": "3.6.5"
  }
 },
 "nbformat": 4,
 "nbformat_minor": 2
}
